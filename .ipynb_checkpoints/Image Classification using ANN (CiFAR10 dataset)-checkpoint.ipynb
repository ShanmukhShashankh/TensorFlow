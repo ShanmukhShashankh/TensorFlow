{
 "cells": [
  {
   "cell_type": "code",
   "execution_count": 1,
   "id": "bd41dea5",
   "metadata": {},
   "outputs": [],
   "source": [
    "import numpy as np\n",
    "import pandas as pd\n",
    "import matplotlib.pyplot as plt\n",
    "%matplotlib inline"
   ]
  },
  {
   "cell_type": "code",
   "execution_count": 2,
   "id": "542a1177",
   "metadata": {},
   "outputs": [],
   "source": [
    "from jupyterthemes import jtplot\n",
    "jtplot.style(theme='onedork',context='notebook', grid=False, ticks=True)"
   ]
  },
  {
   "cell_type": "code",
   "execution_count": 3,
   "id": "4b923efe",
   "metadata": {},
   "outputs": [
    {
     "name": "stderr",
     "output_type": "stream",
     "text": [
      "2023-04-22 18:38:53.577273: I tensorflow/core/platform/cpu_feature_guard.cc:182] This TensorFlow binary is optimized to use available CPU instructions in performance-critical operations.\n",
      "To enable the following instructions: AVX2 AVX512F AVX512_VNNI FMA, in other operations, rebuild TensorFlow with the appropriate compiler flags.\n",
      "2023-04-22 18:38:54.190756: W tensorflow/compiler/tf2tensorrt/utils/py_utils.cc:38] TF-TRT Warning: Could not find TensorRT\n"
     ]
    }
   ],
   "source": [
    "import tensorflow as tf"
   ]
  },
  {
   "cell_type": "code",
   "execution_count": 4,
   "id": "63e5ab6e",
   "metadata": {},
   "outputs": [],
   "source": [
    "gpus = tf.config.experimental.list_physical_devices('GPU')\n",
    "for gpu in gpus:\n",
    "    tf.config.experimental.set_memory_growth(gpu, True)"
   ]
  },
  {
   "cell_type": "code",
   "execution_count": 5,
   "id": "c20609ae",
   "metadata": {},
   "outputs": [],
   "source": [
    "(X_train, y_train), (X_test, y_test) = tf.keras.datasets.cifar10.load_data()"
   ]
  },
  {
   "cell_type": "code",
   "execution_count": 6,
   "id": "42c16e24",
   "metadata": {},
   "outputs": [
    {
     "data": {
      "text/plain": [
       "<matplotlib.image.AxesImage at 0x7fdc8d4c5cc0>"
      ]
     },
     "execution_count": 6,
     "metadata": {},
     "output_type": "execute_result"
    },
    {
     "data": {
      "image/png": "[encoded data removed]",
      "text/plain": [
       "<Figure size 100x100 with 1 Axes>"
      ]
     },
     "metadata": {},
     "output_type": "display_data"
    }
   ],
   "source": [
    "plt.figure(figsize=(1,1))\n",
    "plt.imshow(X_train[0])"
   ]
  },
  {
   "cell_type": "code",
   "execution_count": 7,
   "id": "84490908",
   "metadata": {},
   "outputs": [],
   "source": [
    "classes = ['airplane', 'automobile', 'bird', 'cat', 'deer', 'dog', 'frog', 'horse', 'ship', 'truck']"
   ]
  },
  {
   "cell_type": "code",
   "execution_count": 8,
   "id": "68ba4ef9",
   "metadata": {},
   "outputs": [
    {
     "data": {
      "text/plain": [
       "'frog'"
      ]
     },
     "execution_count": 8,
     "metadata": {},
     "output_type": "execute_result"
    }
   ],
   "source": [
    "classes[y_train[0][0]]"
   ]
  },
  {
   "cell_type": "code",
   "execution_count": 9,
   "id": "95c053d4",
   "metadata": {},
   "outputs": [],
   "source": [
    "X_train = X_train/255\n",
    "X_test = X_test/255"
   ]
  },
  {
   "cell_type": "code",
   "execution_count": 10,
   "id": "a3deca41",
   "metadata": {},
   "outputs": [
    {
     "data": {
      "text/plain": [
       "array([[6],\n",
       "       [9],\n",
       "       [9],\n",
       "       [4],\n",
       "       [1]], dtype=uint8)"
      ]
     },
     "execution_count": 10,
     "metadata": {},
     "output_type": "execute_result"
    }
   ],
   "source": [
    "y_train[:5]"
   ]
  },
  {
   "cell_type": "code",
   "execution_count": 11,
   "id": "60ee5756",
   "metadata": {},
   "outputs": [
    {
     "data": {
      "text/plain": [
       "array([[0., 0., 0., 0., 0., 0., 1., 0., 0., 0.],\n",
       "       [0., 0., 0., 0., 0., 0., 0., 0., 0., 1.],\n",
       "       [0., 0., 0., 0., 0., 0., 0., 0., 0., 1.],\n",
       "       [0., 0., 0., 0., 1., 0., 0., 0., 0., 0.],\n",
       "       [0., 1., 0., 0., 0., 0., 0., 0., 0., 0.]], dtype=float32)"
      ]
     },
     "execution_count": 11,
     "metadata": {},
     "output_type": "execute_result"
    }
   ],
   "source": [
    "y_train_categorical = tf.keras.utils.to_categorical(y_train, num_classes=10, dtype='float32')\n",
    "y_train_categorical[:5]"
   ]
  },
  {
   "cell_type": "code",
   "execution_count": 12,
   "id": "0aeab61a",
   "metadata": {},
   "outputs": [
    {
     "data": {
      "text/plain": [
       "array([[0., 0., 0., 1., 0., 0., 0., 0., 0., 0.],\n",
       "       [0., 0., 0., 0., 0., 0., 0., 0., 1., 0.],\n",
       "       [0., 0., 0., 0., 0., 0., 0., 0., 1., 0.],\n",
       "       [1., 0., 0., 0., 0., 0., 0., 0., 0., 0.],\n",
       "       [0., 0., 0., 0., 0., 0., 1., 0., 0., 0.]], dtype=float32)"
      ]
     },
     "execution_count": 12,
     "metadata": {},
     "output_type": "execute_result"
    }
   ],
   "source": [
    "y_test_categorical = tf.keras.utils.to_categorical(y_test, num_classes=10, dtype='float32')\n",
    "y_test_categorical[:5]"
   ]
  },
  {
   "cell_type": "code",
   "execution_count": 13,
   "id": "8a47b056",
   "metadata": {},
   "outputs": [
    {
     "data": {
      "text/plain": [
       "(50000, 32, 32, 3)"
      ]
     },
     "execution_count": 13,
     "metadata": {},
     "output_type": "execute_result"
    }
   ],
   "source": [
    "X_train.shape"
   ]
  },
  {
   "cell_type": "code",
   "execution_count": 14,
   "id": "87ea7f29",
   "metadata": {},
   "outputs": [
    {
     "name": "stderr",
     "output_type": "stream",
     "text": [
      "2023-04-22 18:38:56.133778: I tensorflow/core/common_runtime/gpu/gpu_device.cc:1635] Created device /job:localhost/replica:0/task:0/device:GPU:0 with 2073 MB memory:  -> device: 0, name: NVIDIA GeForce RTX 3050 Laptop GPU, pci bus id: 0000:01:00.0, compute capability: 8.6\n",
      "2023-04-22 18:38:56.585072: W tensorflow/tsl/framework/cpu_allocator_impl.cc:83] Allocation of 614400000 exceeds 10% of free system memory.\n",
      "2023-04-22 18:38:57.035099: W tensorflow/tsl/framework/cpu_allocator_impl.cc:83] Allocation of 614400000 exceeds 10% of free system memory.\n"
     ]
    },
    {
     "name": "stdout",
     "output_type": "stream",
     "text": [
      "Epoch 1/50\n"
     ]
    },
    {
     "name": "stderr",
     "output_type": "stream",
     "text": [
      "2023-04-22 18:38:58.421449: I tensorflow/compiler/xla/stream_executor/cuda/cuda_blas.cc:637] TensorFloat-32 will be used for the matrix multiplication. This will only be logged once.\n",
      "2023-04-22 18:38:58.423447: I tensorflow/compiler/xla/service/service.cc:169] XLA service 0x561064f9add0 initialized for platform CUDA (this does not guarantee that XLA will be used). Devices:\n",
      "2023-04-22 18:38:58.423468: I tensorflow/compiler/xla/service/service.cc:177]   StreamExecutor device (0): NVIDIA GeForce RTX 3050 Laptop GPU, Compute Capability 8.6\n",
      "2023-04-22 18:38:58.538610: I tensorflow/compiler/xla/stream_executor/cuda/cuda_dnn.cc:424] Loaded cuDNN version 8600\n",
      "2023-04-22 18:38:58.595190: I ./tensorflow/compiler/jit/device_compiler.h:180] Compiled cluster using XLA!  This line is logged at most once for the lifetime of the process.\n"
     ]
    },
    {
     "name": "stdout",
     "output_type": "stream",
     "text": [
      "1563/1563 [==============================] - 7s 4ms/step - loss: 1.8154 - accuracy: 0.3550\n",
      "Epoch 2/50\n",
      "1563/1563 [==============================] - 6s 4ms/step - loss: 1.6237 - accuracy: 0.4295\n",
      "Epoch 3/50\n",
      "1563/1563 [==============================] - 6s 4ms/step - loss: 1.5428 - accuracy: 0.4538\n",
      "Epoch 4/50\n",
      "1563/1563 [==============================] - 6s 4ms/step - loss: 1.4842 - accuracy: 0.4802\n",
      "Epoch 5/50\n",
      "1563/1563 [==============================] - 7s 4ms/step - loss: 1.4340 - accuracy: 0.4972\n",
      "Epoch 6/50\n",
      "1563/1563 [==============================] - 6s 4ms/step - loss: 1.3934 - accuracy: 0.5093\n",
      "Epoch 7/50\n",
      "1563/1563 [==============================] - 6s 4ms/step - loss: 1.3560 - accuracy: 0.5250\n",
      "Epoch 8/50\n",
      "1563/1563 [==============================] - 6s 4ms/step - loss: 1.3194 - accuracy: 0.5372\n",
      "Epoch 9/50\n",
      "1563/1563 [==============================] - 6s 4ms/step - loss: 1.2869 - accuracy: 0.5495\n",
      "Epoch 10/50\n",
      "1563/1563 [==============================] - 6s 4ms/step - loss: 1.2564 - accuracy: 0.5609\n",
      "Epoch 11/50\n",
      "1563/1563 [==============================] - 6s 4ms/step - loss: 1.2259 - accuracy: 0.5716\n",
      "Epoch 12/50\n",
      "1563/1563 [==============================] - 6s 4ms/step - loss: 1.1952 - accuracy: 0.5816\n",
      "Epoch 13/50\n",
      "1563/1563 [==============================] - 6s 4ms/step - loss: 1.1689 - accuracy: 0.5924\n",
      "Epoch 14/50\n",
      "1563/1563 [==============================] - 6s 4ms/step - loss: 1.1422 - accuracy: 0.6017\n",
      "Epoch 15/50\n",
      "1563/1563 [==============================] - 6s 4ms/step - loss: 1.1146 - accuracy: 0.6114\n",
      "Epoch 16/50\n",
      "1563/1563 [==============================] - 6s 4ms/step - loss: 1.0881 - accuracy: 0.6212\n",
      "Epoch 17/50\n",
      "1563/1563 [==============================] - 6s 4ms/step - loss: 1.0601 - accuracy: 0.6297\n",
      "Epoch 18/50\n",
      "1563/1563 [==============================] - 6s 4ms/step - loss: 1.0336 - accuracy: 0.6427\n",
      "Epoch 19/50\n",
      "1563/1563 [==============================] - 6s 4ms/step - loss: 1.0070 - accuracy: 0.6499\n",
      "Epoch 20/50\n",
      "1563/1563 [==============================] - 6s 4ms/step - loss: 0.9810 - accuracy: 0.6610\n",
      "Epoch 21/50\n",
      "1563/1563 [==============================] - 6s 4ms/step - loss: 0.9584 - accuracy: 0.6683\n",
      "Epoch 22/50\n",
      "1563/1563 [==============================] - 6s 4ms/step - loss: 0.9327 - accuracy: 0.6762\n",
      "Epoch 23/50\n",
      "1563/1563 [==============================] - 6s 4ms/step - loss: 0.9052 - accuracy: 0.6886\n",
      "Epoch 24/50\n",
      "1563/1563 [==============================] - 6s 4ms/step - loss: 0.8804 - accuracy: 0.6968\n",
      "Epoch 25/50\n",
      "1563/1563 [==============================] - 6s 4ms/step - loss: 0.8575 - accuracy: 0.7055\n",
      "Epoch 26/50\n",
      "1563/1563 [==============================] - 6s 4ms/step - loss: 0.8308 - accuracy: 0.7145\n",
      "Epoch 27/50\n",
      "1563/1563 [==============================] - 6s 4ms/step - loss: 0.8046 - accuracy: 0.7246\n",
      "Epoch 28/50\n",
      "1563/1563 [==============================] - 6s 4ms/step - loss: 0.7797 - accuracy: 0.7320\n",
      "Epoch 29/50\n",
      "1563/1563 [==============================] - 6s 4ms/step - loss: 0.7561 - accuracy: 0.7415\n",
      "Epoch 30/50\n",
      "1563/1563 [==============================] - 6s 4ms/step - loss: 0.7281 - accuracy: 0.7521\n",
      "Epoch 31/50\n",
      "1563/1563 [==============================] - 6s 4ms/step - loss: 0.7017 - accuracy: 0.7604\n",
      "Epoch 32/50\n",
      "1563/1563 [==============================] - 6s 4ms/step - loss: 0.6792 - accuracy: 0.7707\n",
      "Epoch 33/50\n",
      "1563/1563 [==============================] - 6s 4ms/step - loss: 0.6526 - accuracy: 0.7781\n",
      "Epoch 34/50\n",
      "1563/1563 [==============================] - 6s 4ms/step - loss: 0.6319 - accuracy: 0.7872\n",
      "Epoch 35/50\n",
      "1563/1563 [==============================] - 6s 4ms/step - loss: 0.6086 - accuracy: 0.7954\n",
      "Epoch 36/50\n",
      "1563/1563 [==============================] - 6s 4ms/step - loss: 0.5848 - accuracy: 0.8051\n",
      "Epoch 37/50\n",
      "1563/1563 [==============================] - 6s 4ms/step - loss: 0.5611 - accuracy: 0.8142\n",
      "Epoch 38/50\n",
      "1563/1563 [==============================] - 6s 4ms/step - loss: 0.5332 - accuracy: 0.8261\n",
      "Epoch 39/50\n",
      "1563/1563 [==============================] - 5s 4ms/step - loss: 0.5120 - accuracy: 0.8323\n",
      "Epoch 40/50\n",
      "1563/1563 [==============================] - 5s 3ms/step - loss: 0.4916 - accuracy: 0.8392\n",
      "Epoch 41/50\n",
      "1563/1563 [==============================] - 5s 4ms/step - loss: 0.4676 - accuracy: 0.8480\n",
      "Epoch 42/50\n",
      "1563/1563 [==============================] - 6s 4ms/step - loss: 0.4454 - accuracy: 0.8575\n",
      "Epoch 43/50\n",
      "1563/1563 [==============================] - 6s 4ms/step - loss: 0.4255 - accuracy: 0.8631\n",
      "Epoch 44/50\n",
      "1563/1563 [==============================] - 6s 4ms/step - loss: 0.4048 - accuracy: 0.8716\n",
      "Epoch 45/50\n",
      "1563/1563 [==============================] - 7s 4ms/step - loss: 0.3852 - accuracy: 0.8776\n",
      "Epoch 46/50\n",
      "1563/1563 [==============================] - 7s 4ms/step - loss: 0.3672 - accuracy: 0.8841\n",
      "Epoch 47/50\n",
      "1563/1563 [==============================] - 6s 4ms/step - loss: 0.3452 - accuracy: 0.8940\n",
      "Epoch 48/50\n",
      "1563/1563 [==============================] - 6s 4ms/step - loss: 0.3304 - accuracy: 0.8980\n",
      "Epoch 49/50\n",
      "1563/1563 [==============================] - 6s 4ms/step - loss: 0.3146 - accuracy: 0.9046\n",
      "Epoch 50/50\n",
      "1563/1563 [==============================] - 6s 4ms/step - loss: 0.2945 - accuracy: 0.9107\n"
     ]
    },
    {
     "data": {
      "text/plain": [
       "<keras.callbacks.History at 0x7fdc809e3d90>"
      ]
     },
     "execution_count": 14,
     "metadata": {},
     "output_type": "execute_result"
    }
   ],
   "source": [
    "model = tf.keras.Sequential([\n",
    "    tf.keras.layers.Flatten(input_shape=(32,32,3)),\n",
    "    tf.keras.layers.Dense(3000, activation='relu'),\n",
    "    tf.keras.layers.Dense(1000, activation='relu'),\n",
    "    tf.keras.layers.Dense(10, activation='softmax')\n",
    "])\n",
    "\n",
    "model.compile(optimizer='SGD', \n",
    "              loss='categorical_crossentropy', \n",
    "              metrics=['accuracy']) #Using categorical crossentropy instead of sparse categorical cross entropy because the data is one hot encoded.\n",
    "model.fit(X_train, y_train_categorical, epochs=50)\n"
   ]
  },
  {
   "cell_type": "code",
   "execution_count": 15,
   "id": "6dbd55b9",
   "metadata": {},
   "outputs": [
    {
     "name": "stdout",
     "output_type": "stream",
     "text": [
      "313/313 [==============================] - 0s 928us/step\n"
     ]
    },
    {
     "data": {
      "text/plain": [
       "array([[1.61506614e-04, 6.13348908e-04, 1.94305298e-03, ...,\n",
       "        1.09754957e-07, 1.11874018e-03, 3.53307987e-04],\n",
       "       [2.66423613e-05, 1.91079080e-02, 1.13371580e-05, ...,\n",
       "        3.19378305e-05, 8.57689321e-01, 1.23130806e-01],\n",
       "       [5.06782942e-02, 2.51978457e-01, 1.20725902e-03, ...,\n",
       "        7.08519074e-04, 6.71483219e-01, 2.03220267e-02],\n",
       "       ...,\n",
       "       [2.47171381e-04, 1.97014651e-06, 5.18536389e-01, ...,\n",
       "        8.46363429e-04, 3.43184773e-04, 4.25131220e-05],\n",
       "       [3.37682851e-03, 3.88831832e-05, 7.36669481e-01, ...,\n",
       "        3.12247343e-04, 1.97114554e-04, 1.26812767e-04],\n",
       "       [7.11264365e-05, 8.12359067e-05, 1.83006693e-02, ...,\n",
       "        7.51743793e-01, 1.55659029e-04, 1.15562289e-03]], dtype=float32)"
      ]
     },
     "execution_count": 15,
     "metadata": {},
     "output_type": "execute_result"
    }
   ],
   "source": [
    "model.predict(X_test)"
   ]
  },
  {
   "cell_type": "code",
   "execution_count": 16,
   "id": "a5ac7e73",
   "metadata": {},
   "outputs": [
    {
     "name": "stdout",
     "output_type": "stream",
     "text": [
      "313/313 [==============================] - 1s 1ms/step - loss: 1.5128 - accuracy: 0.5680\n"
     ]
    },
    {
     "data": {
      "text/plain": [
       "[1.5127999782562256, 0.5680000185966492]"
      ]
     },
     "execution_count": 16,
     "metadata": {},
     "output_type": "execute_result"
    }
   ],
   "source": [
    "model.evaluate(X_test, y_test_categorical)"
   ]
  },
  {
   "cell_type": "code",
   "execution_count": 17,
   "id": "f1fb863e",
   "metadata": {},
   "outputs": [],
   "source": [
    "def get_model():\n",
    "    model = tf.keras.Sequential([\n",
    "    tf.keras.layers.Flatten(input_shape=(32,32,3)),\n",
    "    tf.keras.layers.Dense(3000, activation='relu'),\n",
    "    tf.keras.layers.Dense(1000, activation='relu'),\n",
    "    tf.keras.layers.Dense(10, activation='softmax')\n",
    "    ])\n",
    "\n",
    "    model.compile(optimizer='SGD', \n",
    "                  loss='categorical_crossentropy', \n",
    "                  metrics=['accuracy'])\n",
    "    return model\n"
   ]
  },
  {
   "cell_type": "code",
   "execution_count": 19,
   "id": "549ebb91",
   "metadata": {},
   "outputs": [
    {
     "name": "stderr",
     "output_type": "stream",
     "text": [
      "2023-04-22 18:49:42.816996: W tensorflow/tsl/framework/cpu_allocator_impl.cc:83] Allocation of 614400000 exceeds 10% of free system memory.\n"
     ]
    },
    {
     "name": "stdout",
     "output_type": "stream",
     "text": [
      "1563/1563 [==============================] - 70s 45ms/step - loss: 1.8098 - accuracy: 0.3559\n"
     ]
    }
   ],
   "source": [
    "with tf.device('/CPU:0'):\n",
    "    cpu_model = get_model()\n",
    "    cpu_model.fit(X_train, y_train_categorical, epochs=1)\n"
   ]
  },
  {
   "cell_type": "code",
   "execution_count": null,
   "id": "bac7cb1e",
   "metadata": {},
   "outputs": [],
   "source": []
  }
 ],
 "metadata": {
  "kernelspec": {
   "display_name": "Python 3 (ipykernel)",
   "language": "python",
   "name": "python3"
  },
  "language_info": {
   "codemirror_mode": {
    "name": "ipython",
    "version": 3
   },
   "file_extension": ".py",
   "mimetype": "text/x-python",
   "name": "python",
   "nbconvert_exporter": "python",
   "pygments_lexer": "ipython3",
   "version": "3.10.10"
  }
 },
 "nbformat": 4,
 "nbformat_minor": 5
}
