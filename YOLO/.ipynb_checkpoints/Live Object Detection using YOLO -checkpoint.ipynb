{
 "cells": [
  {
   "cell_type": "code",
   "execution_count": 1,
   "id": "09047ee0",
   "metadata": {},
   "outputs": [],
   "source": [
    "from ultralytics import YOLO\n",
    "import cv2 as cv\n",
    "import math\n",
    "import numpy as np"
   ]
  },
  {
   "cell_type": "code",
   "execution_count": 2,
   "id": "68fbd0af",
   "metadata": {},
   "outputs": [],
   "source": [
    "model = YOLO(\"yolov8l.pt\") "
   ]
  },
  {
   "cell_type": "code",
   "execution_count": 3,
   "id": "869b6d2e",
   "metadata": {},
   "outputs": [],
   "source": [
    "def changeRes(width,height):\n",
    "    cap.set(3,width)\n",
    "    cap.set(4,height)"
   ]
  },
  {
   "cell_type": "code",
   "execution_count": 4,
   "id": "d5bf5c5b",
   "metadata": {},
   "outputs": [
    {
     "name": "stderr",
     "output_type": "stream",
     "text": [
      "\n",
      "0: 384x640 2 persons, 1 kite, 1 bottle, 760.0ms\n",
      "Speed: 0.5ms preprocess, 760.0ms inference, 5.6ms postprocess per image at shape (1, 3, 640, 640)\n",
      "\n",
      "0: 384x640 3 persons, 1 kite, 1 bottle, 1 cell phone, 605.5ms\n",
      "Speed: 0.9ms preprocess, 605.5ms inference, 0.9ms postprocess per image at shape (1, 3, 640, 640)\n",
      "\n",
      "0: 384x640 3 persons, 1 kite, 1 bottle, 728.3ms\n",
      "Speed: 0.5ms preprocess, 728.3ms inference, 0.9ms postprocess per image at shape (1, 3, 640, 640)\n",
      "\n",
      "0: 384x640 2 persons, 1 bottle, 714.6ms\n",
      "Speed: 0.7ms preprocess, 714.6ms inference, 0.9ms postprocess per image at shape (1, 3, 640, 640)\n",
      "\n",
      "0: 384x640 3 persons, 1 kite, 1 bottle, 405.3ms\n",
      "Speed: 0.4ms preprocess, 405.3ms inference, 0.7ms postprocess per image at shape (1, 3, 640, 640)\n",
      "\n",
      "0: 384x640 2 persons, 1 bottle, 398.4ms\n",
      "Speed: 0.4ms preprocess, 398.4ms inference, 0.7ms postprocess per image at shape (1, 3, 640, 640)\n",
      "\n",
      "0: 384x640 2 persons, 1 cup, 715.6ms\n",
      "Speed: 0.5ms preprocess, 715.6ms inference, 1.0ms postprocess per image at shape (1, 3, 640, 640)\n",
      "\n",
      "0: 384x640 2 persons, 1 bottle, 713.6ms\n",
      "Speed: 1.0ms preprocess, 713.6ms inference, 0.9ms postprocess per image at shape (1, 3, 640, 640)\n",
      "\n",
      "0: 384x640 2 persons, 1 cup, 406.2ms\n",
      "Speed: 0.6ms preprocess, 406.2ms inference, 0.9ms postprocess per image at shape (1, 3, 640, 640)\n",
      "\n",
      "0: 384x640 2 persons, 424.3ms\n",
      "Speed: 0.4ms preprocess, 424.3ms inference, 0.9ms postprocess per image at shape (1, 3, 640, 640)\n",
      "\n",
      "0: 384x640 2 persons, 716.7ms\n",
      "Speed: 0.5ms preprocess, 716.7ms inference, 0.9ms postprocess per image at shape (1, 3, 640, 640)\n",
      "\n",
      "0: 384x640 1 person, 1 couch, 441.4ms\n",
      "Speed: 0.6ms preprocess, 441.4ms inference, 0.8ms postprocess per image at shape (1, 3, 640, 640)\n",
      "\n",
      "0: 384x640 2 persons, 1 dining table, 727.4ms\n",
      "Speed: 0.5ms preprocess, 727.4ms inference, 1.0ms postprocess per image at shape (1, 3, 640, 640)\n",
      "\n",
      "0: 384x640 2 persons, 1 bed, 1 dining table, 429.6ms\n",
      "Speed: 0.4ms preprocess, 429.6ms inference, 1.1ms postprocess per image at shape (1, 3, 640, 640)\n"
     ]
    }
   ],
   "source": [
    "cap = cv.VideoCapture(0)\n",
    "changeRes(1280,720)\n",
    "classNames=[\"person\", \"bicycle\", \"car\", \"motorbike\", \"aeroplane\", \"bus\", \"train\", \"truck\", \"boat\",\n",
    "            \"traffic light\", \"fire hydrant\", \"stop sign\", \"parking meter\", \"bench\", \"bird\", \"cat\",\n",
    "            \"dog\", \"horse\", \"sheep\", \"cow\", \"elephant\", \"bear\", \"zebra\", \"giraffe\", \"backpack\",\n",
    "            \"umbrella\", \"handbag\", \"tie\", \"suitcase\", \"frisbee\", \"skis\", \"snowboard\", \"sports ball\",\n",
    "            \"kite\", \"baseball bat\", \"baseball glove\", \"skateboard\", \"surfboard\", \"tennis facket\",\n",
    "            \"bottle\", \"wine glass\", \"cup\", \"fork\", \"knife\", \"spoon\", \"bowl\", \"banana\", \"apple\",\n",
    "            \"sandwich\", \"orange\", \"broccoli\", \"carrot\", \"hot dog\", \"pizza\", \"donut\", \"cake\", \"chain\",\n",
    "            \"sofa\", \"pottedplant\", \"bed\", \"diningtable\", \"toilet\", \"tvmonitor\", \"laptop\", \"mouse\",\n",
    "            \"remote\", \"keyboard\", \"cell phone\", \"microwave\", \"oven\", \"toaster\", \"sink\",\n",
    "            \"refrigerator\", \"book\", \"clock\", \"vase\", \"scissors\", \"teddy bear\", \"hair drier\",\n",
    "            \"toothbrush\"]\n",
    "COLORS = np.random.randint(0, 255, size=(len(classNames), 3))\n",
    "colors = {}\n",
    "for i in range(len(classNames)):\n",
    "    colors[classNames[i]] = COLORS[i]\n",
    "while True:\n",
    "    isTrue,frame = cap.read()\n",
    "    results = model(frame, stream=True)\n",
    "    for r in results:\n",
    "        boxes = r.boxes\n",
    "        for box in boxes:\n",
    "            x1,y1,x2,y2 = box.xyxy[0]\n",
    "            x1,y1,x2,y2 = int(x1), int(y1), int(x2), int(y2)\n",
    "            conf = math.ceil(box.conf[0]*100)/100\n",
    "            clss = int(box.cls[0])\n",
    "            (b,g,r) = colors[classNames[clss]]\n",
    "            cv.rectangle(frame, (x1,y1), (x2,y2), (int(b),int(g),int(r)), 3)\n",
    "            cv.putText(frame, classNames[clss]+' '+str(conf), (x1, y1-10), cv.FONT_HERSHEY_SIMPLEX, 0.9, (int(b),int(g),int(r)), 2)\n",
    "    cv.imshow('Frame', frame)\n",
    "    if cv.waitKey(1) & 0xFF == 27:\n",
    "        break\n",
    "\n",
    "cap.release()\n",
    "cv.destroyAllWindows()"
   ]
  }
 ],
 "metadata": {
  "kernelspec": {
   "display_name": "Python 3 (ipykernel)",
   "language": "python",
   "name": "python3"
  },
  "language_info": {
   "codemirror_mode": {
    "name": "ipython",
    "version": 3
   },
   "file_extension": ".py",
   "mimetype": "text/x-python",
   "name": "python",
   "nbconvert_exporter": "python",
   "pygments_lexer": "ipython3",
   "version": "3.10.10"
  }
 },
 "nbformat": 4,
 "nbformat_minor": 5
}
